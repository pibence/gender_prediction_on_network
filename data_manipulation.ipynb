{
 "cells": [
  {
   "cell_type": "code",
   "execution_count": null,
   "metadata": {},
   "outputs": [],
   "source": [
    "import pandas as pd\n",
    "from loading import load_data"
   ]
  },
  {
   "cell_type": "code",
   "execution_count": 2,
   "metadata": {},
   "outputs": [
    {
     "name": "stdout",
     "output_type": "stream",
     "text": [
      "Number of nodes in the graph: 434590\n",
      "Number of edges in the graph: 3984828\n"
     ]
    }
   ],
   "source": [
    "# loading data from downloaded zip files, writing them to csv-s.\n",
    "nodes, edgelist = load_data(edgelist_path='data\\soc-pokec-relationships.txt', node_path='data\\soc-pokec-profiles.txt')"
   ]
  },
  {
   "cell_type": "code",
   "execution_count": 4,
   "metadata": {},
   "outputs": [],
   "source": [
    "nodes.to_csv('data/node_data.csv', index=False)\n",
    "edgelist.to_csv(\"data/edgelist.csv\", index=False)"
   ]
  }
 ],
 "metadata": {
  "interpreter": {
   "hash": "214e2f9978d975e894f219a861a047abced73ea54741a58a6cd2c2c3bfdab827"
  },
  "kernelspec": {
   "display_name": "Python 3.8.11 64-bit ('empi_finance': conda)",
   "language": "python",
   "name": "python3"
  },
  "language_info": {
   "codemirror_mode": {
    "name": "ipython",
    "version": 3
   },
   "file_extension": ".py",
   "mimetype": "text/x-python",
   "name": "python",
   "nbconvert_exporter": "python",
   "pygments_lexer": "ipython3",
   "version": "3.8.11"
  },
  "orig_nbformat": 4
 },
 "nbformat": 4,
 "nbformat_minor": 2
}
