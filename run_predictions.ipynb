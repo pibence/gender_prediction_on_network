{
 "cells": [
  {
   "cell_type": "code",
   "execution_count": 1,
   "metadata": {},
   "outputs": [],
   "source": [
    "from loading import load_data_from_csv, filter_edgelist_and_nodes\n",
    "from graphs import create_graph_with_attributes\n",
    "from predictions import train_test_split, test_duplicator, predict_from_neighbors, ceating_dataframe_for_prediction, check_accuracy\n",
    "import pandas as pd\n",
    "from sklearn.linear_model import LogisticRegression\n",
    "from sklearn.tree import DecisionTreeClassifier "
   ]
  },
  {
   "cell_type": "code",
   "execution_count": 2,
   "metadata": {},
   "outputs": [
    {
     "name": "stdout",
     "output_type": "stream",
     "text": [
      "Number of nodes in the graph: 434590\n",
      "Number of edges in the graph: 3984828\n"
     ]
    }
   ],
   "source": [
    "# loading data\n",
    "nodes, edgelist = load_data_from_csv(edgelist_path='data/edgelist.csv', node_path='data/node_data.csv')"
   ]
  },
  {
   "cell_type": "code",
   "execution_count": 3,
   "metadata": {},
   "outputs": [],
   "source": [
    "#creating train and test samples. The test sample also contains the target variable, it is not used though.\n",
    "# In order to create graph with all the nodes, an empty version of the test set is also created.\n",
    "train, test = train_test_split(nodes)\n",
    "empty_test = test_duplicator(test, target=['age', 'gender'])\n",
    "train_test = pd.concat([train, empty_test]) # to create graph from"
   ]
  },
  {
   "cell_type": "code",
   "execution_count": 4,
   "metadata": {},
   "outputs": [],
   "source": [
    "# filtering out edges that are not in the train set, also filtering out nodes without edges.\n",
    "train_filt, edgelist_filt = filter_edgelist_and_nodes(train, edgelist)\n",
    "# doing the same train_test dataset as well, that contains the nodes without info.\n",
    "train_ext_filt, edgelist_ext_filt = filter_edgelist_and_nodes(train_test, edgelist)"
   ]
  },
  {
   "cell_type": "code",
   "execution_count": 5,
   "metadata": {},
   "outputs": [],
   "source": [
    "# creating graphs for both node dataframe\n",
    "G = create_graph_with_attributes(train, edgelist_filt)\n",
    "G2 = create_graph_with_attributes(train_ext_filt, edgelist_ext_filt)"
   ]
  },
  {
   "cell_type": "markdown",
   "metadata": {},
   "source": [
    "## Prediction based on neighbors"
   ]
  },
  {
   "cell_type": "code",
   "execution_count": 6,
   "metadata": {},
   "outputs": [
    {
     "name": "stderr",
     "output_type": "stream",
     "text": [
      "100%|██████████| 43459/43459 [09:38<00:00, 75.10it/s] \n"
     ]
    }
   ],
   "source": [
    "# prediction based on neighbors\n",
    "predicted_df = predict_from_neighbors(G2, train_ext_filt, test)"
   ]
  },
  {
   "cell_type": "code",
   "execution_count": 7,
   "metadata": {},
   "outputs": [
    {
     "name": "stdout",
     "output_type": "stream",
     "text": [
      "Confusion matrix:\n",
      "[[ 9546 10951]\n",
      " [10618 12344]]\n",
      "\n",
      "The accuracy score is 0.5036931360592742\n"
     ]
    }
   ],
   "source": [
    "y_test = test.gender\n",
    "y_pred = predicted_df.gender\n",
    "check_accuracy(y_test, y_pred)"
   ]
  },
  {
   "cell_type": "markdown",
   "metadata": {},
   "source": [
    "## Prediction based on triads\n",
    "For each node, the number of triangles and the average of the other two members' gender is calculated, that'll be used in the logistic regression and decision tree. \n",
    "\n",
    "Using only triads that have gender info for both other members."
   ]
  },
  {
   "cell_type": "code",
   "execution_count": 8,
   "metadata": {},
   "outputs": [
    {
     "name": "stderr",
     "output_type": "stream",
     "text": [
      "100%|██████████| 10000/10000 [09:34<00:00, 17.40it/s]\n",
      "100%|██████████| 10000/10000 [12:45<00:00, 13.07it/s]\n"
     ]
    }
   ],
   "source": [
    "# creating dataframe for regression, also for prediction\n",
    "# TODO: remove [0:10000] limit, run again on the whole dataset\n",
    "regression_df = ceating_dataframe_for_prediction(G, train)\n",
    "test_df = ceating_dataframe_for_prediction(G2, train_ext_filt, test)"
   ]
  },
  {
   "cell_type": "code",
   "execution_count": 9,
   "metadata": {},
   "outputs": [],
   "source": [
    "# creating train and test sets for logistic regression and decision tree\n",
    "y_train, X_train = regression_df['gender'], regression_df[['mm', 'mf', 'ff']]\n",
    "X_test =  test_df[['mm', 'mf', 'ff']]\n",
    "y_test = test.gender[0:10000]"
   ]
  },
  {
   "cell_type": "code",
   "execution_count": 10,
   "metadata": {},
   "outputs": [],
   "source": [
    "regmodel = LogisticRegression()\n",
    "regmodel.fit(X_train, y_train)\n",
    "y_pred_reg = regmodel.predict(X_test)\n",
    "\n",
    "clf = DecisionTreeClassifier()\n",
    "clf.fit(X_train, y_train)\n",
    "y_pred_clf = clf.predict(X_test)"
   ]
  },
  {
   "cell_type": "code",
   "execution_count": 11,
   "metadata": {},
   "outputs": [
    {
     "name": "stdout",
     "output_type": "stream",
     "text": [
      "Confusion matrix:\n",
      "[[1672 3017]\n",
      " [1023 4288]]\n",
      "\n",
      "The accuracy score is 0.596\n"
     ]
    }
   ],
   "source": [
    "# evaluating the models\n",
    "check_accuracy(y_test, y_pred_reg)"
   ]
  },
  {
   "cell_type": "code",
   "execution_count": 12,
   "metadata": {},
   "outputs": [
    {
     "name": "stdout",
     "output_type": "stream",
     "text": [
      "Confusion matrix:\n",
      "[[1768 2921]\n",
      " [1219 4092]]\n",
      "\n",
      "The accuracy score is 0.586\n"
     ]
    }
   ],
   "source": [
    "check_accuracy(y_test, y_pred_clf)"
   ]
  },
  {
   "cell_type": "markdown",
   "metadata": {},
   "source": [
    "## Summary\n",
    "Based on accuracy scores the both triad-based models are better for prediction than the benchmark."
   ]
  }
 ],
 "metadata": {
  "interpreter": {
   "hash": "214e2f9978d975e894f219a861a047abced73ea54741a58a6cd2c2c3bfdab827"
  },
  "kernelspec": {
   "display_name": "Python 3.8.11 64-bit ('empi_finance': conda)",
   "language": "python",
   "name": "python3"
  },
  "language_info": {
   "codemirror_mode": {
    "name": "ipython",
    "version": 3
   },
   "file_extension": ".py",
   "mimetype": "text/x-python",
   "name": "python",
   "nbconvert_exporter": "python",
   "pygments_lexer": "ipython3",
   "version": "3.8.11"
  },
  "orig_nbformat": 4
 },
 "nbformat": 4,
 "nbformat_minor": 2
}
